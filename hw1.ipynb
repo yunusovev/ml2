{
 "cells": [
  {
   "cell_type": "markdown",
   "metadata": {},
   "source": [
    "# Часть 1"
   ]
  },
  {
   "cell_type": "markdown",
   "metadata": {},
   "source": [
    "## 1.1"
   ]
  },
  {
   "cell_type": "markdown",
   "metadata": {},
   "source": [
    "<b>$A$</b> - у случайно выбранного человека редкая группа крови <br>\n",
    "<b>$\\bar{A}$</b> - у случайно выбранного человека не редкая группа крови <br>\n",
    "\n",
    "<b>$H$</b> - случайно выбранный человек убийца <br>\n",
    "<b>$\\bar{H}$</b> - случайно выбранный человек не убийца"
   ]
  },
  {
   "cell_type": "markdown",
   "metadata": {},
   "source": [
    "<b>$AH$</b> – случайно выбранный человек имеет редкую группу крови и он убийца <br>\n",
    "<b>$A|H$</b> – случайно выбранный человек имеет редкую группу крови при условии что он убийца <br>\n",
    "<b>$H|A$</b> – случайно выбранный человек убийца при условии что у него редкая группа крови <br>\n"
   ]
  },
  {
   "cell_type": "markdown",
   "metadata": {},
   "source": [
    "<b>$P(A) = 0.01$</b><br>\n",
    "<b>$P(H) = 0.000001$</b><br>\n",
    "<b>$P(A|H) = 1$</b><br>\n"
   ]
  },
  {
   "cell_type": "markdown",
   "metadata": {},
   "source": [
    "Прокурор: \"Шанс, что у подсудимого была бы именно такая группа крови, если бы он был невиновен - всего 1%\" - говорит про вероятность $P(A|\\bar{H})$, тогда как 0.01 - это $P(A)$. Дальше из предыдущего заявления оценивает $P(H|A)$. <br>\n",
    "\n",
    "Он и правда должен был оценить $P(H|A)$, но делает это неверно.\n",
    "\n",
    "$P(H|A) = \\frac{P(A|H)P(H)}{P(A)} = \\frac{1*0.01}{0.000001} = 0.0001$"
   ]
  },
  {
   "cell_type": "markdown",
   "metadata": {},
   "source": [
    "## 1.2"
   ]
  },
  {
   "cell_type": "markdown",
   "metadata": {},
   "source": [
    "Адвокат: \"В городе живёт миллион человек. Это значит, что примерно у 10000 из них такая группа крови. Значит, всё, что говорит нам эта кровь - это то, что подсудимый совершил убийство с вероятностью 0.01%\" - говорит про вероятность $P(H|A)$.\n",
    "В пункте выше мы вяснили, что данная вероятность действительно равна 0.01%. <br>\n",
    "Получается что адвокат оценил правильно нужную вероятность и в целом прав."
   ]
  },
  {
   "cell_type": "markdown",
   "metadata": {},
   "source": [
    "## 1.3"
   ]
  },
  {
   "cell_type": "markdown",
   "metadata": {},
   "source": [
    "<b>$A$</b> - болен <br>\n",
    "<b>$\\bar{A}$</b> - не болен<br>\n",
    "\n",
    "<b>$H$</b> - тест показал что болен<br>\n",
    "<b>$\\bar{H}$</b> - тест не показал что болен<br>\n",
    "\n",
    "$P(A) = 0.01$"
   ]
  },
  {
   "cell_type": "markdown",
   "metadata": {},
   "source": [
    "\n",
    "\n",
    "$  $| $H$ | $\\bar{H}$\n",
    "--- | --- | ---\n",
    "$A$ | TP | FP\n",
    "$\\bar{A}$ | FN | TN\n",
    "\n",
    "\n",
    "$TP = P(H|A)$ <br>\n",
    "$FP = P(\\bar{H}|A)$ <br>\n",
    "$FN = P(H|\\bar{A})$ <br>\n",
    "$TN = P(\\bar{H}|\\bar{A})$\n",
    "\n",
    "$P(A|H) = \\frac{P(H|A)P(A)}{P(H|A)P(A) + P(H|\\bar{A})P(\\bar{A})}$"
   ]
  },
  {
   "cell_type": "code",
   "execution_count": 1,
   "metadata": {},
   "outputs": [],
   "source": [
    "import numpy as np\n",
    "import matplotlib.pyplot as plt\n",
    "%matplotlib inline"
   ]
  },
  {
   "cell_type": "code",
   "execution_count": 2,
   "metadata": {},
   "outputs": [],
   "source": [
    "def get_posterior_a_h(fp=0.05, fn=0.05, P_a=0.01):\n",
    "    tp = 1 - fp\n",
    "    tn = 1 - fn\n",
    "    P_a_h = tp * P_a / (tp * P_a + fn * (1 - P_a))\n",
    "    return P_a_h"
   ]
  },
  {
   "cell_type": "code",
   "execution_count": 3,
   "metadata": {},
   "outputs": [
    {
     "data": {
      "text/plain": [
       "0.16101694915254236"
      ]
     },
     "execution_count": 3,
     "metadata": {},
     "output_type": "execute_result"
    }
   ],
   "source": [
    "get_posterior_a_h()"
   ]
  },
  {
   "cell_type": "code",
   "execution_count": 4,
   "metadata": {},
   "outputs": [
    {
     "data": {
      "image/png": "[encoded data removed]",
      "text/plain": [
       "<Figure size 432x288 with 1 Axes>"
      ]
     },
     "metadata": {
      "needs_background": "light"
     },
     "output_type": "display_data"
    }
   ],
   "source": [
    "fig, ax = plt.subplots()\n",
    "ax.grid()\n",
    "list_fn = np.linspace(0, 0.05, 1001)\n",
    "ax.plot(list_fn, [get_posterior_a_h(fn=fn) for fn in list_fn])\n",
    "plt.title('P(A|H) при раздичных FN');"
   ]
  },
  {
   "cell_type": "code",
   "execution_count": 5,
   "metadata": {},
   "outputs": [
    {
     "data": {
      "image/png": "[encoded data removed]",
      "text/plain": [
       "<Figure size 432x288 with 1 Axes>"
      ]
     },
     "metadata": {
      "needs_background": "light"
     },
     "output_type": "display_data"
    }
   ],
   "source": [
    "fig, ax = plt.subplots()\n",
    "ax.grid()\n",
    "list_fp = np.linspace(0, 1, 21)\n",
    "ax.plot(list_fp, [get_posterior_a_h(fp=fp) for fp in list_fp])\n",
    "plt.title('P(A|H) при раздичных FP');"
   ]
  },
  {
   "cell_type": "markdown",
   "metadata": {},
   "source": [
    "На графиках представлены зависимости апостериорной вероятности P(A|H) от изменения FN и FP. В данном случае выгоднее улучшать FP, т.к. можно довести до большей вероятности."
   ]
  },
  {
   "cell_type": "code",
   "execution_count": 6,
   "metadata": {},
   "outputs": [
    {
     "data": {
      "text/plain": [
       "0.0005313496280552604"
      ]
     },
     "execution_count": 6,
     "metadata": {},
     "output_type": "execute_result"
    }
   ],
   "source": [
    "def get_posterior_a_not_h(fp=0.05, fn=0.05, P_a=0.01):\n",
    "    tp = 1 - fp\n",
    "    tn = 1 - fn\n",
    "    P_a_not_h = fp * P_a / (fp * P_a + tn * (1 - P_a))\n",
    "    return P_a_not_h\n",
    "\n",
    "get_posterior_a_not_h()"
   ]
  },
  {
   "cell_type": "code",
   "execution_count": 7,
   "metadata": {},
   "outputs": [
    {
     "data": {
      "image/png": "[encoded data removed]",
      "text/plain": [
       "<Figure size 432x288 with 1 Axes>"
      ]
     },
     "metadata": {
      "needs_background": "light"
     },
     "output_type": "display_data"
    }
   ],
   "source": [
    "fig, ax = plt.subplots()\n",
    "ax.grid()\n",
    "list_fn = np.linspace(0, 0.05, 1001)\n",
    "plt.plot(list_fn, [get_posterior_a_not_h(fn=fn) for fn in list_fn])\n",
    "plt.title('P(A|-H) при изменении FN');"
   ]
  },
  {
   "cell_type": "code",
   "execution_count": 8,
   "metadata": {},
   "outputs": [
    {
     "data": {
      "image/png": "[encoded data removed]",
      "text/plain": [
       "<Figure size 432x288 with 1 Axes>"
      ]
     },
     "metadata": {
      "needs_background": "light"
     },
     "output_type": "display_data"
    }
   ],
   "source": [
    "fig, ax = plt.subplots()\n",
    "ax.grid()\n",
    "list_fp = np.linspace(0, 0.05, 21)\n",
    "ax.plot(list_fp, [get_posterior_a_not_h(fp=fp) for fp in list_fp])\n",
    "plt.title('P(A|-H) при изменении FP');"
   ]
  },
  {
   "cell_type": "markdown",
   "metadata": {},
   "source": [
    "$P(A|\\bar{H})$ - вероятность что человек болен, при условии что тест отрицателен, следовательно выгодно чтобы вероятность падала. Вероятность падает сильнее при уменьшении FP"
   ]
  },
  {
   "cell_type": "markdown",
   "metadata": {},
   "source": [
    "Вывод: нужно определиться что важнее. Если выгоднее $P(A|H)$, то нужно уменьшать FN, если выгднее $P(A|\\bar{H})$, то нужно уменьшать FP"
   ]
  },
  {
   "cell_type": "markdown",
   "metadata": {},
   "source": [
    "# Часть 2"
   ]
  },
  {
   "cell_type": "code",
   "execution_count": 9,
   "metadata": {},
   "outputs": [],
   "source": [
    "import pandas as pd\n",
    "import numpy as np\n",
    "from sklearn.linear_model import LinearRegression, Ridge\n",
    "from sklearn.preprocessing import StandardScaler\n",
    "from sklearn.metrics import mean_squared_error\n",
    "from sklearn.model_selection import ParameterGrid\n",
    "\n",
    "import scipy.stats as sts\n",
    "\n",
    "import matplotlib.pyplot as plt\n",
    "%matplotlib inline"
   ]
  },
  {
   "cell_type": "markdown",
   "metadata": {},
   "source": [
    "# Задание 1. Сбор и препроцессинг данных"
   ]
  },
  {
   "cell_type": "code",
   "execution_count": 10,
   "metadata": {},
   "outputs": [
    {
     "name": "stdout",
     "output_type": "stream",
     "text": [
      "(184, 59)\n"
     ]
    },
    {
     "data": {
      "text/html": [
       "<div>\n",
       "<style scoped>\n",
       "    .dataframe tbody tr th:only-of-type {\n",
       "        vertical-align: middle;\n",
       "    }\n",
       "\n",
       "    .dataframe tbody tr th {\n",
       "        vertical-align: top;\n",
       "    }\n",
       "\n",
       "    .dataframe thead th {\n",
       "        text-align: right;\n",
       "    }\n",
       "</style>\n",
       "<table border=\"1\" class=\"dataframe\">\n",
       "  <thead>\n",
       "    <tr style=\"text-align: right;\">\n",
       "      <th></th>\n",
       "      <th>iso_code</th>\n",
       "      <th>continent</th>\n",
       "      <th>location</th>\n",
       "      <th>date</th>\n",
       "      <th>total_cases</th>\n",
       "      <th>new_cases</th>\n",
       "      <th>new_cases_smoothed</th>\n",
       "      <th>total_deaths</th>\n",
       "      <th>new_deaths</th>\n",
       "      <th>new_deaths_smoothed</th>\n",
       "      <th>...</th>\n",
       "      <th>gdp_per_capita</th>\n",
       "      <th>extreme_poverty</th>\n",
       "      <th>cardiovasc_death_rate</th>\n",
       "      <th>diabetes_prevalence</th>\n",
       "      <th>female_smokers</th>\n",
       "      <th>male_smokers</th>\n",
       "      <th>handwashing_facilities</th>\n",
       "      <th>hospital_beds_per_thousand</th>\n",
       "      <th>life_expectancy</th>\n",
       "      <th>human_development_index</th>\n",
       "    </tr>\n",
       "  </thead>\n",
       "  <tbody>\n",
       "    <tr>\n",
       "      <th>0</th>\n",
       "      <td>RUS</td>\n",
       "      <td>Europe</td>\n",
       "      <td>Russia</td>\n",
       "      <td>2020-03-03</td>\n",
       "      <td>3.0</td>\n",
       "      <td>1.0</td>\n",
       "      <td>0.143</td>\n",
       "      <td>NaN</td>\n",
       "      <td>NaN</td>\n",
       "      <td>0.0</td>\n",
       "      <td>...</td>\n",
       "      <td>24765.954</td>\n",
       "      <td>0.1</td>\n",
       "      <td>431.297</td>\n",
       "      <td>6.18</td>\n",
       "      <td>23.4</td>\n",
       "      <td>58.3</td>\n",
       "      <td>NaN</td>\n",
       "      <td>8.05</td>\n",
       "      <td>72.58</td>\n",
       "      <td>0.824</td>\n",
       "    </tr>\n",
       "    <tr>\n",
       "      <th>1</th>\n",
       "      <td>RUS</td>\n",
       "      <td>Europe</td>\n",
       "      <td>Russia</td>\n",
       "      <td>2020-03-04</td>\n",
       "      <td>3.0</td>\n",
       "      <td>1.0</td>\n",
       "      <td>0.143</td>\n",
       "      <td>NaN</td>\n",
       "      <td>NaN</td>\n",
       "      <td>0.0</td>\n",
       "      <td>...</td>\n",
       "      <td>24765.954</td>\n",
       "      <td>0.1</td>\n",
       "      <td>431.297</td>\n",
       "      <td>6.18</td>\n",
       "      <td>23.4</td>\n",
       "      <td>58.3</td>\n",
       "      <td>NaN</td>\n",
       "      <td>8.05</td>\n",
       "      <td>72.58</td>\n",
       "      <td>0.824</td>\n",
       "    </tr>\n",
       "    <tr>\n",
       "      <th>2</th>\n",
       "      <td>RUS</td>\n",
       "      <td>Europe</td>\n",
       "      <td>Russia</td>\n",
       "      <td>2020-03-05</td>\n",
       "      <td>4.0</td>\n",
       "      <td>1.0</td>\n",
       "      <td>0.286</td>\n",
       "      <td>NaN</td>\n",
       "      <td>NaN</td>\n",
       "      <td>0.0</td>\n",
       "      <td>...</td>\n",
       "      <td>24765.954</td>\n",
       "      <td>0.1</td>\n",
       "      <td>431.297</td>\n",
       "      <td>6.18</td>\n",
       "      <td>23.4</td>\n",
       "      <td>58.3</td>\n",
       "      <td>NaN</td>\n",
       "      <td>8.05</td>\n",
       "      <td>72.58</td>\n",
       "      <td>0.824</td>\n",
       "    </tr>\n",
       "    <tr>\n",
       "      <th>3</th>\n",
       "      <td>RUS</td>\n",
       "      <td>Europe</td>\n",
       "      <td>Russia</td>\n",
       "      <td>2020-03-06</td>\n",
       "      <td>13.0</td>\n",
       "      <td>9.0</td>\n",
       "      <td>1.571</td>\n",
       "      <td>NaN</td>\n",
       "      <td>NaN</td>\n",
       "      <td>0.0</td>\n",
       "      <td>...</td>\n",
       "      <td>24765.954</td>\n",
       "      <td>0.1</td>\n",
       "      <td>431.297</td>\n",
       "      <td>6.18</td>\n",
       "      <td>23.4</td>\n",
       "      <td>58.3</td>\n",
       "      <td>NaN</td>\n",
       "      <td>8.05</td>\n",
       "      <td>72.58</td>\n",
       "      <td>0.824</td>\n",
       "    </tr>\n",
       "    <tr>\n",
       "      <th>4</th>\n",
       "      <td>RUS</td>\n",
       "      <td>Europe</td>\n",
       "      <td>Russia</td>\n",
       "      <td>2020-03-07</td>\n",
       "      <td>13.0</td>\n",
       "      <td>1.0</td>\n",
       "      <td>1.571</td>\n",
       "      <td>NaN</td>\n",
       "      <td>NaN</td>\n",
       "      <td>0.0</td>\n",
       "      <td>...</td>\n",
       "      <td>24765.954</td>\n",
       "      <td>0.1</td>\n",
       "      <td>431.297</td>\n",
       "      <td>6.18</td>\n",
       "      <td>23.4</td>\n",
       "      <td>58.3</td>\n",
       "      <td>NaN</td>\n",
       "      <td>8.05</td>\n",
       "      <td>72.58</td>\n",
       "      <td>0.824</td>\n",
       "    </tr>\n",
       "  </tbody>\n",
       "</table>\n",
       "<p>5 rows × 59 columns</p>\n",
       "</div>"
      ],
      "text/plain": [
       "  iso_code continent location       date  total_cases  new_cases  \\\n",
       "0      RUS    Europe   Russia 2020-03-03          3.0        1.0   \n",
       "1      RUS    Europe   Russia 2020-03-04          3.0        1.0   \n",
       "2      RUS    Europe   Russia 2020-03-05          4.0        1.0   \n",
       "3      RUS    Europe   Russia 2020-03-06         13.0        9.0   \n",
       "4      RUS    Europe   Russia 2020-03-07         13.0        1.0   \n",
       "\n",
       "   new_cases_smoothed  total_deaths  new_deaths  new_deaths_smoothed  ...  \\\n",
       "0               0.143           NaN         NaN                  0.0  ...   \n",
       "1               0.143           NaN         NaN                  0.0  ...   \n",
       "2               0.286           NaN         NaN                  0.0  ...   \n",
       "3               1.571           NaN         NaN                  0.0  ...   \n",
       "4               1.571           NaN         NaN                  0.0  ...   \n",
       "\n",
       "   gdp_per_capita  extreme_poverty  cardiovasc_death_rate  \\\n",
       "0       24765.954              0.1                431.297   \n",
       "1       24765.954              0.1                431.297   \n",
       "2       24765.954              0.1                431.297   \n",
       "3       24765.954              0.1                431.297   \n",
       "4       24765.954              0.1                431.297   \n",
       "\n",
       "   diabetes_prevalence  female_smokers  male_smokers  handwashing_facilities  \\\n",
       "0                 6.18            23.4          58.3                     NaN   \n",
       "1                 6.18            23.4          58.3                     NaN   \n",
       "2                 6.18            23.4          58.3                     NaN   \n",
       "3                 6.18            23.4          58.3                     NaN   \n",
       "4                 6.18            23.4          58.3                     NaN   \n",
       "\n",
       "   hospital_beds_per_thousand  life_expectancy  human_development_index  \n",
       "0                        8.05            72.58                    0.824  \n",
       "1                        8.05            72.58                    0.824  \n",
       "2                        8.05            72.58                    0.824  \n",
       "3                        8.05            72.58                    0.824  \n",
       "4                        8.05            72.58                    0.824  \n",
       "\n",
       "[5 rows x 59 columns]"
      ]
     },
     "execution_count": 10,
     "metadata": {},
     "output_type": "execute_result"
    }
   ],
   "source": [
    "df = pd.read_csv('https://covid.ourworldindata.org/data/owid-covid-data.csv')\n",
    "\n",
    "df.loc[df['new_cases']==0, 'new_cases'] = 1\n",
    "\n",
    "df['date'] = df['date'].astype('datetime64[ns]')\n",
    "df = df[(df.location=='Russia') & (df['date']>=pd.to_datetime('2020-03-03'))\n",
    "        & (df['date']<=pd.to_datetime('2020-09-02'))\n",
    "       ].reset_index(drop=True)\n",
    "\n",
    "print(df.shape)\n",
    "df.head()"
   ]
  },
  {
   "cell_type": "code",
   "execution_count": 11,
   "metadata": {},
   "outputs": [
    {
     "data": {
      "text/html": [
       "<div>\n",
       "<style scoped>\n",
       "    .dataframe tbody tr th:only-of-type {\n",
       "        vertical-align: middle;\n",
       "    }\n",
       "\n",
       "    .dataframe tbody tr th {\n",
       "        vertical-align: top;\n",
       "    }\n",
       "\n",
       "    .dataframe thead th {\n",
       "        text-align: right;\n",
       "    }\n",
       "</style>\n",
       "<table border=\"1\" class=\"dataframe\">\n",
       "  <thead>\n",
       "    <tr style=\"text-align: right;\">\n",
       "      <th></th>\n",
       "      <th>day_num</th>\n",
       "      <th>iso_code</th>\n",
       "      <th>continent</th>\n",
       "      <th>location</th>\n",
       "      <th>date</th>\n",
       "      <th>total_cases</th>\n",
       "      <th>new_cases</th>\n",
       "      <th>new_cases_smoothed</th>\n",
       "      <th>total_deaths</th>\n",
       "      <th>new_deaths</th>\n",
       "      <th>...</th>\n",
       "      <th>gdp_per_capita</th>\n",
       "      <th>extreme_poverty</th>\n",
       "      <th>cardiovasc_death_rate</th>\n",
       "      <th>diabetes_prevalence</th>\n",
       "      <th>female_smokers</th>\n",
       "      <th>male_smokers</th>\n",
       "      <th>handwashing_facilities</th>\n",
       "      <th>hospital_beds_per_thousand</th>\n",
       "      <th>life_expectancy</th>\n",
       "      <th>human_development_index</th>\n",
       "    </tr>\n",
       "  </thead>\n",
       "  <tbody>\n",
       "    <tr>\n",
       "      <th>0</th>\n",
       "      <td>1</td>\n",
       "      <td>RUS</td>\n",
       "      <td>Europe</td>\n",
       "      <td>Russia</td>\n",
       "      <td>2020-03-03</td>\n",
       "      <td>3.0</td>\n",
       "      <td>1.0</td>\n",
       "      <td>0.143</td>\n",
       "      <td>NaN</td>\n",
       "      <td>NaN</td>\n",
       "      <td>...</td>\n",
       "      <td>24765.954</td>\n",
       "      <td>0.1</td>\n",
       "      <td>431.297</td>\n",
       "      <td>6.18</td>\n",
       "      <td>23.4</td>\n",
       "      <td>58.3</td>\n",
       "      <td>NaN</td>\n",
       "      <td>8.05</td>\n",
       "      <td>72.58</td>\n",
       "      <td>0.824</td>\n",
       "    </tr>\n",
       "    <tr>\n",
       "      <th>1</th>\n",
       "      <td>2</td>\n",
       "      <td>RUS</td>\n",
       "      <td>Europe</td>\n",
       "      <td>Russia</td>\n",
       "      <td>2020-03-04</td>\n",
       "      <td>3.0</td>\n",
       "      <td>1.0</td>\n",
       "      <td>0.143</td>\n",
       "      <td>NaN</td>\n",
       "      <td>NaN</td>\n",
       "      <td>...</td>\n",
       "      <td>24765.954</td>\n",
       "      <td>0.1</td>\n",
       "      <td>431.297</td>\n",
       "      <td>6.18</td>\n",
       "      <td>23.4</td>\n",
       "      <td>58.3</td>\n",
       "      <td>NaN</td>\n",
       "      <td>8.05</td>\n",
       "      <td>72.58</td>\n",
       "      <td>0.824</td>\n",
       "    </tr>\n",
       "    <tr>\n",
       "      <th>2</th>\n",
       "      <td>3</td>\n",
       "      <td>RUS</td>\n",
       "      <td>Europe</td>\n",
       "      <td>Russia</td>\n",
       "      <td>2020-03-05</td>\n",
       "      <td>4.0</td>\n",
       "      <td>1.0</td>\n",
       "      <td>0.286</td>\n",
       "      <td>NaN</td>\n",
       "      <td>NaN</td>\n",
       "      <td>...</td>\n",
       "      <td>24765.954</td>\n",
       "      <td>0.1</td>\n",
       "      <td>431.297</td>\n",
       "      <td>6.18</td>\n",
       "      <td>23.4</td>\n",
       "      <td>58.3</td>\n",
       "      <td>NaN</td>\n",
       "      <td>8.05</td>\n",
       "      <td>72.58</td>\n",
       "      <td>0.824</td>\n",
       "    </tr>\n",
       "    <tr>\n",
       "      <th>3</th>\n",
       "      <td>4</td>\n",
       "      <td>RUS</td>\n",
       "      <td>Europe</td>\n",
       "      <td>Russia</td>\n",
       "      <td>2020-03-06</td>\n",
       "      <td>13.0</td>\n",
       "      <td>9.0</td>\n",
       "      <td>1.571</td>\n",
       "      <td>NaN</td>\n",
       "      <td>NaN</td>\n",
       "      <td>...</td>\n",
       "      <td>24765.954</td>\n",
       "      <td>0.1</td>\n",
       "      <td>431.297</td>\n",
       "      <td>6.18</td>\n",
       "      <td>23.4</td>\n",
       "      <td>58.3</td>\n",
       "      <td>NaN</td>\n",
       "      <td>8.05</td>\n",
       "      <td>72.58</td>\n",
       "      <td>0.824</td>\n",
       "    </tr>\n",
       "    <tr>\n",
       "      <th>4</th>\n",
       "      <td>5</td>\n",
       "      <td>RUS</td>\n",
       "      <td>Europe</td>\n",
       "      <td>Russia</td>\n",
       "      <td>2020-03-07</td>\n",
       "      <td>13.0</td>\n",
       "      <td>1.0</td>\n",
       "      <td>1.571</td>\n",
       "      <td>NaN</td>\n",
       "      <td>NaN</td>\n",
       "      <td>...</td>\n",
       "      <td>24765.954</td>\n",
       "      <td>0.1</td>\n",
       "      <td>431.297</td>\n",
       "      <td>6.18</td>\n",
       "      <td>23.4</td>\n",
       "      <td>58.3</td>\n",
       "      <td>NaN</td>\n",
       "      <td>8.05</td>\n",
       "      <td>72.58</td>\n",
       "      <td>0.824</td>\n",
       "    </tr>\n",
       "  </tbody>\n",
       "</table>\n",
       "<p>5 rows × 60 columns</p>\n",
       "</div>"
      ],
      "text/plain": [
       "   day_num iso_code continent location       date  total_cases  new_cases  \\\n",
       "0        1      RUS    Europe   Russia 2020-03-03          3.0        1.0   \n",
       "1        2      RUS    Europe   Russia 2020-03-04          3.0        1.0   \n",
       "2        3      RUS    Europe   Russia 2020-03-05          4.0        1.0   \n",
       "3        4      RUS    Europe   Russia 2020-03-06         13.0        9.0   \n",
       "4        5      RUS    Europe   Russia 2020-03-07         13.0        1.0   \n",
       "\n",
       "   new_cases_smoothed  total_deaths  new_deaths  ...  gdp_per_capita  \\\n",
       "0               0.143           NaN         NaN  ...       24765.954   \n",
       "1               0.143           NaN         NaN  ...       24765.954   \n",
       "2               0.286           NaN         NaN  ...       24765.954   \n",
       "3               1.571           NaN         NaN  ...       24765.954   \n",
       "4               1.571           NaN         NaN  ...       24765.954   \n",
       "\n",
       "   extreme_poverty  cardiovasc_death_rate  diabetes_prevalence  \\\n",
       "0              0.1                431.297                 6.18   \n",
       "1              0.1                431.297                 6.18   \n",
       "2              0.1                431.297                 6.18   \n",
       "3              0.1                431.297                 6.18   \n",
       "4              0.1                431.297                 6.18   \n",
       "\n",
       "   female_smokers  male_smokers  handwashing_facilities  \\\n",
       "0            23.4          58.3                     NaN   \n",
       "1            23.4          58.3                     NaN   \n",
       "2            23.4          58.3                     NaN   \n",
       "3            23.4          58.3                     NaN   \n",
       "4            23.4          58.3                     NaN   \n",
       "\n",
       "   hospital_beds_per_thousand  life_expectancy  human_development_index  \n",
       "0                        8.05            72.58                    0.824  \n",
       "1                        8.05            72.58                    0.824  \n",
       "2                        8.05            72.58                    0.824  \n",
       "3                        8.05            72.58                    0.824  \n",
       "4                        8.05            72.58                    0.824  \n",
       "\n",
       "[5 rows x 60 columns]"
      ]
     },
     "execution_count": 11,
     "metadata": {},
     "output_type": "execute_result"
    }
   ],
   "source": [
    "df.sort_values('date', inplace=True)\n",
    "df.reset_index(inplace=True)\n",
    "df.rename(columns={'index':'day_num'}, inplace=True)\n",
    "df['day_num'] += 1\n",
    "df.head()"
   ]
  },
  {
   "cell_type": "markdown",
   "metadata": {},
   "source": [
    "# Задание 2"
   ]
  },
  {
   "cell_type": "markdown",
   "metadata": {},
   "source": [
    "Построим графики зависимости total_cases и new_cases от дня"
   ]
  },
  {
   "cell_type": "code",
   "execution_count": 12,
   "metadata": {},
   "outputs": [
    {
     "data": {
      "image/png": "[encoded data removed]",
      "text/plain": [
       "<Figure size 432x288 with 1 Axes>"
      ]
     },
     "metadata": {
      "needs_background": "light"
     },
     "output_type": "display_data"
    }
   ],
   "source": [
    "df.plot('date', 'total_cases', grid=True);"
   ]
  },
  {
   "cell_type": "code",
   "execution_count": 13,
   "metadata": {},
   "outputs": [
    {
     "data": {
      "text/plain": [
       "<AxesSubplot:xlabel='date'>"
      ]
     },
     "execution_count": 13,
     "metadata": {},
     "output_type": "execute_result"
    },
    {
     "data": {
      "image/png": "[encoded data removed]",
      "text/plain": [
       "<Figure size 432x288 with 1 Axes>"
      ]
     },
     "metadata": {
      "needs_background": "light"
     },
     "output_type": "display_data"
    }
   ],
   "source": [
    "df.plot('date', 'new_cases', grid=True)"
   ]
  },
  {
   "cell_type": "markdown",
   "metadata": {},
   "source": [
    "По данным графикам видим, что зависимость нелинейная и по началу похожа на экспоненциальную. В случае total_cases со временем падает скорость роста графика. В случае new_cases видим, что кол-во новых случаев со временем начинает падать."
   ]
  },
  {
   "cell_type": "markdown",
   "metadata": {},
   "source": [
    "### feature: exp_day_num - экспонента от номера дня\n",
    "### target: total_cases"
   ]
  },
  {
   "cell_type": "markdown",
   "metadata": {},
   "source": [
    "## 2.a"
   ]
  },
  {
   "cell_type": "code",
   "execution_count": 14,
   "metadata": {},
   "outputs": [],
   "source": [
    "df['exp_day_num'] = np.exp(df['day_num'])\n",
    "df_train = df[df.index<50]\n",
    "df_test = df[df.index>=50]"
   ]
  },
  {
   "cell_type": "markdown",
   "metadata": {},
   "source": [
    "Оценим обычную линейную регрессию $y \\sim w*x+b$, где $x = exp(day\\_num)$"
   ]
  },
  {
   "cell_type": "code",
   "execution_count": 15,
   "metadata": {},
   "outputs": [
    {
     "data": {
      "text/plain": [
       "LinearRegression()"
      ]
     },
     "execution_count": 15,
     "metadata": {},
     "output_type": "execute_result"
    }
   ],
   "source": [
    "lr = LinearRegression()\n",
    "X_train = df_train[['exp_day_num']].values\n",
    "y_train = df_train['total_cases'].values\n",
    "\n",
    "X_test = df_test[['exp_day_num']].values\n",
    "y_test = df_test['total_cases'].values\n",
    "\n",
    "lr.fit(X_train, y_train)"
   ]
  },
  {
   "cell_type": "code",
   "execution_count": 16,
   "metadata": {},
   "outputs": [],
   "source": [
    "predict_lr_train = lr.predict(X_train)\n",
    "predict_lr_test = lr.predict(X_test)"
   ]
  },
  {
   "cell_type": "code",
   "execution_count": 17,
   "metadata": {},
   "outputs": [
    {
     "data": {
      "text/plain": [
       "[<matplotlib.lines.Line2D at 0x7f6ece15b670>]"
      ]
     },
     "execution_count": 17,
     "metadata": {},
     "output_type": "execute_result"
    },
    {
     "data": {
      "image/png": "[encoded data removed]",
      "text/plain": [
       "<Figure size 432x288 with 1 Axes>"
      ]
     },
     "metadata": {
      "needs_background": "light"
     },
     "output_type": "display_data"
    }
   ],
   "source": [
    "fig, ax = plt.subplots()\n",
    "ax.grid()\n",
    "ax.scatter(df_train['day_num'].values, y_train)\n",
    "ax.plot(df_train['day_num'].values, predict_lr_train)"
   ]
  },
  {
   "cell_type": "code",
   "execution_count": 18,
   "metadata": {},
   "outputs": [
    {
     "data": {
      "text/plain": [
       "[<matplotlib.lines.Line2D at 0x7f6ece1adbb0>]"
      ]
     },
     "execution_count": 18,
     "metadata": {},
     "output_type": "execute_result"
    },
    {
     "data": {
      "image/png": "[encoded data removed]",
      "text/plain": [
       "<Figure size 432x288 with 1 Axes>"
      ]
     },
     "metadata": {
      "needs_background": "light"
     },
     "output_type": "display_data"
    }
   ],
   "source": [
    "fig, ax = plt.subplots()\n",
    "ax.grid()\n",
    "#логарифмическая шкала\n",
    "ax.set_yscale('log')\n",
    "ax.scatter(df_test['day_num'].values, y_test)\n",
    "ax.plot(df_test['day_num'].values, predict_lr_test)"
   ]
  },
  {
   "cell_type": "markdown",
   "metadata": {},
   "source": [
    "Видим что экспонента на трейне обладает хоть какой-то обобщающей способностью, на тесте предсказания становятся сильно хуже. т.к. модель предсказывает сильно выше."
   ]
  },
  {
   "cell_type": "markdown",
   "metadata": {},
   "source": [
    "## 2.b"
   ]
  },
  {
   "cell_type": "markdown",
   "metadata": {},
   "source": [
    "Теперь обучим байесовскую лин. регрессию. В качестве априорного распределения возьмем нормальное."
   ]
  },
  {
   "cell_type": "code",
   "execution_count": 19,
   "metadata": {},
   "outputs": [],
   "source": [
    "lr_ridge = Ridge(alpha=10000)\n",
    "\n",
    "lr_ridge.fit(X_train, y_train)\n",
    "predict_ridge_train = lr_ridge.predict(X_train)\n",
    "predict_ridge_test = lr_ridge.predict(X_test)"
   ]
  },
  {
   "cell_type": "code",
   "execution_count": 20,
   "metadata": {},
   "outputs": [
    {
     "data": {
      "text/plain": [
       "[<matplotlib.lines.Line2D at 0x7f6f323d53a0>]"
      ]
     },
     "execution_count": 20,
     "metadata": {},
     "output_type": "execute_result"
    },
    {
     "data": {
      "image/png": "[encoded data removed]",
      "text/plain": [
       "<Figure size 432x288 with 1 Axes>"
      ]
     },
     "metadata": {
      "needs_background": "light"
     },
     "output_type": "display_data"
    }
   ],
   "source": [
    "fig, ax = plt.subplots()\n",
    "ax.grid()\n",
    "ax.scatter(df_train['day_num'].values, y_train)\n",
    "ax.plot(df_train['day_num'].values, predict_ridge_train)"
   ]
  },
  {
   "cell_type": "code",
   "execution_count": 21,
   "metadata": {},
   "outputs": [
    {
     "data": {
      "text/plain": [
       "[<matplotlib.lines.Line2D at 0x7f6ece0700a0>]"
      ]
     },
     "execution_count": 21,
     "metadata": {},
     "output_type": "execute_result"
    },
    {
     "data": {
      "image/png": "[encoded data removed]",
      "text/plain": [
       "<Figure size 432x288 with 1 Axes>"
      ]
     },
     "metadata": {
      "needs_background": "light"
     },
     "output_type": "display_data"
    }
   ],
   "source": [
    "fig, ax = plt.subplots()\n",
    "ax.grid()\n",
    "#логарифмическая шкала\n",
    "ax.set_yscale('log')\n",
    "ax.scatter(df_test['day_num'].values, y_test)\n",
    "ax.plot(df_test['day_num'].values, predict_ridge_test)"
   ]
  },
  {
   "cell_type": "markdown",
   "metadata": {},
   "source": [
    "Особых изменений не наблюдается"
   ]
  },
  {
   "cell_type": "markdown",
   "metadata": {},
   "source": [
    "## 2.c"
   ]
  },
  {
   "cell_type": "code",
   "execution_count": 22,
   "metadata": {},
   "outputs": [
    {
     "data": {
      "text/plain": [
       "array([1.14380396e-17])"
      ]
     },
     "execution_count": 22,
     "metadata": {},
     "output_type": "execute_result"
    }
   ],
   "source": [
    "lr.coef_"
   ]
  },
  {
   "cell_type": "code",
   "execution_count": 23,
   "metadata": {},
   "outputs": [
    {
     "data": {
      "text/plain": [
       "array([1.14380396e-17])"
      ]
     },
     "execution_count": 23,
     "metadata": {},
     "output_type": "execute_result"
    }
   ],
   "source": [
    "lr_ridge.coef_"
   ]
  },
  {
   "cell_type": "code",
   "execution_count": 24,
   "metadata": {},
   "outputs": [
    {
     "data": {
      "text/plain": [
       "6326.1449180494155"
      ]
     },
     "execution_count": 24,
     "metadata": {},
     "output_type": "execute_result"
    }
   ],
   "source": [
    "lr.intercept_"
   ]
  },
  {
   "cell_type": "code",
   "execution_count": 25,
   "metadata": {},
   "outputs": [
    {
     "data": {
      "text/plain": [
       "6326.144918049415"
      ]
     },
     "execution_count": 25,
     "metadata": {},
     "output_type": "execute_result"
    }
   ],
   "source": [
    "lr_ridge.intercept_"
   ]
  },
  {
   "cell_type": "code",
   "execution_count": 26,
   "metadata": {},
   "outputs": [
    {
     "data": {
      "text/plain": [
       "10079.131476619425"
      ]
     },
     "execution_count": 26,
     "metadata": {},
     "output_type": "execute_result"
    }
   ],
   "source": [
    "sigma = np.std(y_train-predict_ridge_train)\n",
    "sigma"
   ]
  },
  {
   "cell_type": "markdown",
   "metadata": {},
   "source": [
    "Оценив параметры модели можем просэмплировать из нормального распределения с параметрами mu и sigma, где <br>\n",
    "<b>mu</b> - предсказание модели в точке (модель возвращает мат. ожидание) <br>\n",
    "<b>sigma</b> - оцененное стандартное отклоненение"
   ]
  },
  {
   "cell_type": "code",
   "execution_count": 27,
   "metadata": {},
   "outputs": [],
   "source": [
    "def get_day_num(date, df=df, field='exp_day_num'):\n",
    "    \"\"\"\n",
    "    date format 'yyyy-mm-dd'\n",
    "    \"\"\"\n",
    "    return df[df.date==pd.to_datetime(date)][field].to_list()[0]\n",
    "\n",
    "def get_predict_dist(date, field='exp_day_num', std=sigma, model=lr_ridge, size=100):\n",
    "    x = np.array([[get_day_num(date, field=field)]])\n",
    "    mu = model.predict(x)[0]\n",
    "    return np.random.normal(loc=0, scale=std, size=size)"
   ]
  },
  {
   "cell_type": "code",
   "execution_count": 28,
   "metadata": {},
   "outputs": [
    {
     "data": {
      "image/png": "[encoded data removed]",
      "text/plain": [
       "<Figure size 432x288 with 1 Axes>"
      ]
     },
     "metadata": {
      "needs_background": "light"
     },
     "output_type": "display_data"
    }
   ],
   "source": [
    "fig, ax = plt.subplots()\n",
    "ax.grid()\n",
    "\n",
    "gt = df[df.date==pd.to_datetime('2020-05-01')]['total_cases'].to_list()[0]\n",
    "ax.hist(get_predict_dist('2020-05-01', size=1000), bins=30);\n",
    "#ax.plot([gt, gt], [0, 90])"
   ]
  },
  {
   "cell_type": "markdown",
   "metadata": {},
   "source": [
    "на более позних датах графики не отрисовываются (из-за размера числа и маленькой сигмы)"
   ]
  },
  {
   "cell_type": "markdown",
   "metadata": {},
   "source": [
    "### feature: day_num \n",
    "### target: log_total_cases - логарифм от числа случаев заболеваний"
   ]
  },
  {
   "cell_type": "markdown",
   "metadata": {},
   "source": [
    "## 2.a, b, c"
   ]
  },
  {
   "cell_type": "code",
   "execution_count": 29,
   "metadata": {},
   "outputs": [],
   "source": [
    "df['log_total_cases'] = np.log(df['total_cases'])\n",
    "df_train = df[df.index<50]\n",
    "df_test = df[df.index>=50]"
   ]
  },
  {
   "cell_type": "code",
   "execution_count": 30,
   "metadata": {},
   "outputs": [
    {
     "data": {
      "text/plain": [
       "LinearRegression()"
      ]
     },
     "execution_count": 30,
     "metadata": {},
     "output_type": "execute_result"
    }
   ],
   "source": [
    "lr = LinearRegression()\n",
    "X_train = df_train[['day_num']].values\n",
    "y_train = df_train['log_total_cases'].values\n",
    "\n",
    "X_test = df_test[['day_num']].values\n",
    "y_test = df_test['log_total_cases'].values\n",
    "\n",
    "lr.fit(X_train, y_train)"
   ]
  },
  {
   "cell_type": "code",
   "execution_count": 31,
   "metadata": {},
   "outputs": [
    {
     "data": {
      "image/png": "[encoded data removed]",
      "text/plain": [
       "<Figure size 432x288 with 1 Axes>"
      ]
     },
     "metadata": {
      "needs_background": "light"
     },
     "output_type": "display_data"
    },
    {
     "data": {
      "image/png": "[encoded data removed]",
      "text/plain": [
       "<Figure size 432x288 with 1 Axes>"
      ]
     },
     "metadata": {
      "needs_background": "light"
     },
     "output_type": "display_data"
    }
   ],
   "source": [
    "predict_lr_train = lr.predict(X_train)\n",
    "predict_lr_test = lr.predict(X_test)\n",
    "\n",
    "\n",
    "fig, ax = plt.subplots()\n",
    "ax.grid()\n",
    "ax.scatter(df_train['day_num'].values, y_train)\n",
    "ax.plot(df_train['day_num'].values, predict_lr_train)\n",
    "plt.title('LR train');\n",
    "\n",
    "\n",
    "fig, ax = plt.subplots()\n",
    "ax.grid()\n",
    "ax.scatter(df_test['day_num'].values, y_test)\n",
    "ax.plot(df_test['day_num'].values, predict_lr_test)\n",
    "plt.title('LR test');"
   ]
  },
  {
   "cell_type": "code",
   "execution_count": 32,
   "metadata": {},
   "outputs": [
    {
     "data": {
      "image/png": "[encoded data removed]",
      "text/plain": [
       "<Figure size 432x288 with 1 Axes>"
      ]
     },
     "metadata": {
      "needs_background": "light"
     },
     "output_type": "display_data"
    },
    {
     "data": {
      "image/png": "[encoded data removed]",
      "text/plain": [
       "<Figure size 432x288 with 1 Axes>"
      ]
     },
     "metadata": {
      "needs_background": "light"
     },
     "output_type": "display_data"
    }
   ],
   "source": [
    "lr_ridge = Ridge(alpha=1000)\n",
    "\n",
    "lr_ridge.fit(X_train, y_train)\n",
    "predict_ridge_train = lr_ridge.predict(X_train)\n",
    "predict_ridge_test = lr_ridge.predict(X_test)\n",
    "\n",
    "fig, ax = plt.subplots()\n",
    "ax.grid()\n",
    "ax.scatter(df_train['day_num'].values, y_train)\n",
    "ax.plot(df_train['day_num'].values, predict_ridge_train)\n",
    "plt.title('Ridge train');\n",
    "\n",
    "fig, ax = plt.subplots()\n",
    "ax.grid()\n",
    "ax.scatter(df_test['day_num'].values, y_test)\n",
    "ax.plot(df_test['day_num'].values, predict_ridge_test)\n",
    "plt.title('Ridge test');"
   ]
  },
  {
   "cell_type": "markdown",
   "metadata": {},
   "source": [
    "В целом результаты не особо отличаются от предыдущего подхода"
   ]
  },
  {
   "cell_type": "code",
   "execution_count": 33,
   "metadata": {},
   "outputs": [],
   "source": [
    "def get_predict_dist(date, field='exp_day_num', std=sigma, model=lr_ridge, size=100):\n",
    "    x = np.array([[get_day_num(date, field=field)]])\n",
    "    mu = model.predict(x)[0]\n",
    "    return np.random.normal(loc=mu, scale=std, size=size)"
   ]
  },
  {
   "cell_type": "code",
   "execution_count": 34,
   "metadata": {},
   "outputs": [
    {
     "data": {
      "text/plain": [
       "0.4297654890970456"
      ]
     },
     "execution_count": 34,
     "metadata": {},
     "output_type": "execute_result"
    }
   ],
   "source": [
    "sigma = np.std(y_train-predict_ridge_train)\n",
    "sigma"
   ]
  },
  {
   "cell_type": "code",
   "execution_count": 35,
   "metadata": {},
   "outputs": [
    {
     "data": {
      "image/png": "[encoded data removed]",
      "text/plain": [
       "<Figure size 432x288 with 1 Axes>"
      ]
     },
     "metadata": {
      "needs_background": "light"
     },
     "output_type": "display_data"
    }
   ],
   "source": [
    "fig, ax = plt.subplots()\n",
    "ax.grid()\n",
    "\n",
    "gt = df[df.date==pd.to_datetime('2020-05-01')]['log_total_cases'].to_list()[0]\n",
    "dist = get_predict_dist('2020-05-01', field='day_num', size=1000, model=lr_ridge, std=sigma)\n",
    "\n",
    "ax.hist(dist, bins=30);\n",
    "ax.plot([gt, gt], [0, 90])\n",
    "plt.title('predict on 2020-05-01');"
   ]
  },
  {
   "cell_type": "code",
   "execution_count": 36,
   "metadata": {},
   "outputs": [
    {
     "data": {
      "image/png": "[encoded data removed]",
      "text/plain": [
       "<Figure size 432x288 with 1 Axes>"
      ]
     },
     "metadata": {
      "needs_background": "light"
     },
     "output_type": "display_data"
    }
   ],
   "source": [
    "fig, ax = plt.subplots()\n",
    "ax.grid()\n",
    "\n",
    "gt = df[df.date==pd.to_datetime('2020-06-01')]['log_total_cases'].to_list()[0]\n",
    "dist = get_predict_dist('2020-06-01', field='day_num', size=1000, model=lr_ridge, std=sigma)\n",
    "\n",
    "ax.hist(dist, bins=30);\n",
    "ax.plot([gt, gt], [0, 90])\n",
    "plt.title('predict on 2020-06-01');"
   ]
  },
  {
   "cell_type": "code",
   "execution_count": 37,
   "metadata": {},
   "outputs": [
    {
     "data": {
      "image/png": "[encoded data removed]",
      "text/plain": [
       "<Figure size 432x288 with 1 Axes>"
      ]
     },
     "metadata": {
      "needs_background": "light"
     },
     "output_type": "display_data"
    }
   ],
   "source": [
    "fig, ax = plt.subplots()\n",
    "ax.grid()\n",
    "\n",
    "gt = df[df.date==pd.to_datetime('2020-09-01')]['log_total_cases'].to_list()[0]\n",
    "dist = get_predict_dist('2020-09-01', field='day_num', size=1000, model=lr_ridge, std=sigma)\n",
    "\n",
    "ax.hist(dist, bins=30);\n",
    "ax.plot([gt, gt], [0, 90])\n",
    "plt.title('predict on 2020-09-01');"
   ]
  },
  {
   "cell_type": "markdown",
   "metadata": {},
   "source": [
    "Видим что даже на логарифме таргета, качество предсказания сильно падает со временем"
   ]
  },
  {
   "cell_type": "markdown",
   "metadata": {},
   "source": [
    "# Задание 3"
   ]
  },
  {
   "cell_type": "markdown",
   "metadata": {},
   "source": [
    "## 3.a"
   ]
  },
  {
   "cell_type": "markdown",
   "metadata": {},
   "source": [
    "В 3 задании делается предположение что переменная имеет сигмоидальный вид. Оценим эту сигмоиду с помощью линейной регрессии. Так форму сигмоиды задают два параметра mu и sigma, попробуем их подобрать как гиперпараметры модели."
   ]
  },
  {
   "cell_type": "code",
   "execution_count": 38,
   "metadata": {},
   "outputs": [],
   "source": [
    "X_train = df_train[['day_num']].values\n",
    "y_train = df_train['total_cases'].values\n",
    "\n",
    "X_test = df_test[['day_num']].values\n",
    "y_test = df_test['total_cases'].values\n",
    "\n",
    "\n",
    "mu_0 = np.mean(X_train)\n",
    "sigma_0 = 2 * np.std(X_train)\n",
    "X_train_scale = (X_train - mu_0) / sigma_0\n",
    "X_test_scale = (X_test - mu_0) / sigma_0"
   ]
  },
  {
   "cell_type": "code",
   "execution_count": 39,
   "metadata": {},
   "outputs": [],
   "source": [
    "def calc_mse(X_train_scale, y_train, param):\n",
    "    X_train_scale_cdf = sts.norm.cdf(X_train_scale, loc=param['mu'], scale=param['sigma'])\n",
    "    lr = LinearRegression()\n",
    "    lr.fit(X_train_scale_cdf, y_train)\n",
    "    \n",
    "    predict_lr_train = lr.predict(X_train_scale_cdf)\n",
    "    return mean_squared_error(y_train, predict_lr_train)\n",
    "\n",
    "params = {'mu':np.linspace(0, 3, 100), 'sigma':np.linspace(0.1, 5, 20)}\n",
    "params = ParameterGrid(params)"
   ]
  },
  {
   "cell_type": "code",
   "execution_count": 40,
   "metadata": {},
   "outputs": [
    {
     "data": {
      "text/html": [
       "<div>\n",
       "<style scoped>\n",
       "    .dataframe tbody tr th:only-of-type {\n",
       "        vertical-align: middle;\n",
       "    }\n",
       "\n",
       "    .dataframe tbody tr th {\n",
       "        vertical-align: top;\n",
       "    }\n",
       "\n",
       "    .dataframe thead th {\n",
       "        text-align: right;\n",
       "    }\n",
       "</style>\n",
       "<table border=\"1\" class=\"dataframe\">\n",
       "  <thead>\n",
       "    <tr style=\"text-align: right;\">\n",
       "      <th></th>\n",
       "      <th>mu</th>\n",
       "      <th>sigma</th>\n",
       "      <th>mse</th>\n",
       "    </tr>\n",
       "  </thead>\n",
       "  <tbody>\n",
       "    <tr>\n",
       "      <th>1282</th>\n",
       "      <td>1.939394</td>\n",
       "      <td>0.615789</td>\n",
       "      <td>50739.955006</td>\n",
       "    </tr>\n",
       "    <tr>\n",
       "      <th>1262</th>\n",
       "      <td>1.909091</td>\n",
       "      <td>0.615789</td>\n",
       "      <td>52415.682621</td>\n",
       "    </tr>\n",
       "  </tbody>\n",
       "</table>\n",
       "</div>"
      ],
      "text/plain": [
       "            mu     sigma           mse\n",
       "1282  1.939394  0.615789  50739.955006\n",
       "1262  1.909091  0.615789  52415.682621"
      ]
     },
     "execution_count": 40,
     "metadata": {},
     "output_type": "execute_result"
    }
   ],
   "source": [
    "results = []\n",
    "for param in params:\n",
    "    mse = calc_mse(X_train_scale, y_train, param)\n",
    "    param['mse'] = mse\n",
    "    results.append(param)\n",
    "    \n",
    "pd.DataFrame(results).sort_values('mse')[:2]"
   ]
  },
  {
   "cell_type": "code",
   "execution_count": 41,
   "metadata": {},
   "outputs": [],
   "source": [
    "best_params = pd.DataFrame(results).sort_values('mse')[:1].to_dict('records')[0]"
   ]
  },
  {
   "cell_type": "code",
   "execution_count": 42,
   "metadata": {},
   "outputs": [],
   "source": [
    "X_train_scale_cdf = sts.norm.cdf(X_train_scale, loc=best_params['mu'], scale=best_params['sigma'])\n",
    "X_test_scale_cdf = sts.norm.cdf(X_test_scale, loc=best_params['mu'], scale=best_params['sigma'])"
   ]
  },
  {
   "cell_type": "code",
   "execution_count": 43,
   "metadata": {},
   "outputs": [
    {
     "data": {
      "text/plain": [
       "Text(0.5, 1.0, 'LR test')"
      ]
     },
     "execution_count": 43,
     "metadata": {},
     "output_type": "execute_result"
    },
    {
     "data": {
      "image/png": "[encoded data removed]",
      "text/plain": [
       "<Figure size 432x288 with 1 Axes>"
      ]
     },
     "metadata": {
      "needs_background": "light"
     },
     "output_type": "display_data"
    },
    {
     "data": {
      "image/png": "[encoded data removed]",
      "text/plain": [
       "<Figure size 432x288 with 1 Axes>"
      ]
     },
     "metadata": {
      "needs_background": "light"
     },
     "output_type": "display_data"
    }
   ],
   "source": [
    "lr = LinearRegression()\n",
    "lr.fit(X_train_scale_cdf, y_train)\n",
    "predict_lr_train = lr.predict(X_train_scale_cdf)\n",
    "predict_lr_test = lr.predict(X_test_scale_cdf)\n",
    "\n",
    "fig, ax = plt.subplots()\n",
    "ax.grid()\n",
    "ax.scatter(df_train['day_num'].values, y_train)\n",
    "ax.plot(df_train['day_num'].values, predict_lr_train)\n",
    "plt.title('LR train')\n",
    "\n",
    "fig, ax = plt.subplots()\n",
    "ax.grid()\n",
    "ax.scatter(df_test['day_num'].values, y_test)\n",
    "ax.plot(df_test['day_num'].values, predict_lr_test)\n",
    "plt.title('LR test')"
   ]
  },
  {
   "cell_type": "markdown",
   "metadata": {},
   "source": [
    "Подобрали наилучшую форму сигмоиды с помощью линейной регрессии на трейне. На тесте качество ожидаемо упало. Но это все-равно гораздо лучше, чем в предыдущем пункте"
   ]
  },
  {
   "cell_type": "markdown",
   "metadata": {},
   "source": [
    "### 3.b"
   ]
  },
  {
   "cell_type": "code",
   "execution_count": 44,
   "metadata": {},
   "outputs": [],
   "source": [
    "def calc_mse_ridge(X_train_scale, y_train, param):\n",
    "    X_train_scale_cdf = sts.norm.cdf(X_train_scale, loc=param['mu'], scale=param['sigma'])\n",
    "    lr = Ridge(alpha=param['alpha'])\n",
    "    lr.fit(X_train_scale_cdf, y_train)\n",
    "    \n",
    "    predict_lr_train = lr.predict(X_train_scale_cdf)\n",
    "    return mean_squared_error(y_train, predict_lr_train)\n",
    "\n",
    "params = {'mu':np.linspace(0, 3, 100), 'sigma':np.linspace(0.1, 5, 20), 'alpha':[0.0001, 0.001, 0.01, 0.1, 0.5, 1, 10]}\n",
    "params = ParameterGrid(params)"
   ]
  },
  {
   "cell_type": "code",
   "execution_count": 45,
   "metadata": {},
   "outputs": [
    {
     "data": {
      "text/html": [
       "<div>\n",
       "<style scoped>\n",
       "    .dataframe tbody tr th:only-of-type {\n",
       "        vertical-align: middle;\n",
       "    }\n",
       "\n",
       "    .dataframe tbody tr th {\n",
       "        vertical-align: top;\n",
       "    }\n",
       "\n",
       "    .dataframe thead th {\n",
       "        text-align: right;\n",
       "    }\n",
       "</style>\n",
       "<table border=\"1\" class=\"dataframe\">\n",
       "  <thead>\n",
       "    <tr style=\"text-align: right;\">\n",
       "      <th></th>\n",
       "      <th>alpha</th>\n",
       "      <th>mu</th>\n",
       "      <th>sigma</th>\n",
       "      <th>mse</th>\n",
       "    </tr>\n",
       "  </thead>\n",
       "  <tbody>\n",
       "    <tr>\n",
       "      <th>1262</th>\n",
       "      <td>0.0001</td>\n",
       "      <td>1.909091</td>\n",
       "      <td>0.615789</td>\n",
       "      <td>104987.736159</td>\n",
       "    </tr>\n",
       "    <tr>\n",
       "      <th>1242</th>\n",
       "      <td>0.0001</td>\n",
       "      <td>1.878788</td>\n",
       "      <td>0.615789</td>\n",
       "      <td>113514.579457</td>\n",
       "    </tr>\n",
       "  </tbody>\n",
       "</table>\n",
       "</div>"
      ],
      "text/plain": [
       "       alpha        mu     sigma            mse\n",
       "1262  0.0001  1.909091  0.615789  104987.736159\n",
       "1242  0.0001  1.878788  0.615789  113514.579457"
      ]
     },
     "execution_count": 45,
     "metadata": {},
     "output_type": "execute_result"
    }
   ],
   "source": [
    "results = []\n",
    "for param in params:\n",
    "    mse = calc_mse_ridge(X_train_scale, y_train, param)\n",
    "    param['mse'] = mse\n",
    "    results.append(param)\n",
    "    \n",
    "pd.DataFrame(results).sort_values('mse')[:2]"
   ]
  },
  {
   "cell_type": "code",
   "execution_count": 46,
   "metadata": {},
   "outputs": [],
   "source": [
    "best_params = pd.DataFrame(results).sort_values('mse')[:1].to_dict('records')[0]"
   ]
  },
  {
   "cell_type": "code",
   "execution_count": 47,
   "metadata": {},
   "outputs": [],
   "source": [
    "X_train_scale_cdf = sts.norm.cdf(X_train_scale, loc=best_params['mu'], scale=best_params['sigma'])\n",
    "X_test_scale_cdf = sts.norm.cdf(X_test_scale, loc=best_params['mu'], scale=best_params['sigma'])"
   ]
  },
  {
   "cell_type": "code",
   "execution_count": 48,
   "metadata": {},
   "outputs": [
    {
     "data": {
      "text/plain": [
       "Text(0.5, 1.0, 'Ridge test')"
      ]
     },
     "execution_count": 48,
     "metadata": {},
     "output_type": "execute_result"
    },
    {
     "data": {
      "image/png": "[encoded data removed]",
      "text/plain": [
       "<Figure size 432x288 with 1 Axes>"
      ]
     },
     "metadata": {
      "needs_background": "light"
     },
     "output_type": "display_data"
    },
    {
     "data": {
      "image/png": "[encoded data removed]",
      "text/plain": [
       "<Figure size 432x288 with 1 Axes>"
      ]
     },
     "metadata": {
      "needs_background": "light"
     },
     "output_type": "display_data"
    }
   ],
   "source": [
    "lr_ridge = Ridge(alpha=best_params['alpha'])\n",
    "lr_ridge.fit(X_train_scale_cdf, y_train)\n",
    "predict_ridge_train = lr_ridge.predict(X_train_scale_cdf)\n",
    "predict_ridge_test = lr_ridge.predict(X_test_scale_cdf)\n",
    "\n",
    "fig, ax = plt.subplots()\n",
    "ax.grid()\n",
    "ax.scatter(df_train['day_num'].values, y_train)\n",
    "ax.plot(df_train['day_num'].values, predict_ridge_train)\n",
    "plt.title('Ridge train')\n",
    "\n",
    "fig, ax = plt.subplots()\n",
    "ax.grid()\n",
    "ax.scatter(df_test['day_num'].values, y_test)\n",
    "ax.plot(df_test['day_num'].values, predict_ridge_test)\n",
    "plt.title('Ridge test')"
   ]
  },
  {
   "cell_type": "markdown",
   "metadata": {},
   "source": [
    "Регрессия с регуляризацей, показывает более стабильный результат"
   ]
  },
  {
   "cell_type": "markdown",
   "metadata": {},
   "source": [
    "### 3.с"
   ]
  },
  {
   "cell_type": "code",
   "execution_count": 49,
   "metadata": {},
   "outputs": [],
   "source": [
    "def get_predict(x):\n",
    "    x = (x - mu_0) / sigma_0\n",
    "    x = sts.norm.cdf(x, loc=best_params['mu'], scale=best_params['sigma'])\n",
    "    return lr_ridge.predict(x)[0]"
   ]
  },
  {
   "cell_type": "code",
   "execution_count": 50,
   "metadata": {},
   "outputs": [
    {
     "data": {
      "text/plain": [
       "324.0181108501325"
      ]
     },
     "execution_count": 50,
     "metadata": {},
     "output_type": "execute_result"
    }
   ],
   "source": [
    "sigma = np.std(y_train-predict_ridge_train)\n",
    "sigma"
   ]
  },
  {
   "cell_type": "code",
   "execution_count": 51,
   "metadata": {},
   "outputs": [
    {
     "name": "stdout",
     "output_type": "stream",
     "text": [
      "10 перцентиль: 151066, 90 перцентиль: 151901\n"
     ]
    },
    {
     "data": {
      "image/png": "[encoded data removed]",
      "text/plain": [
       "<Figure size 432x288 with 1 Axes>"
      ]
     },
     "metadata": {
      "needs_background": "light"
     },
     "output_type": "display_data"
    }
   ],
   "source": [
    "# предсказание числа заболеваний на 1 мая\n",
    "gt = df[df.date==pd.to_datetime('2020-05-01')]['total_cases'].to_list()[0]\n",
    "x = get_day_num('2020-05-01', field='day_num')\n",
    "x = np.array([[x]])\n",
    "mu = get_predict(x)\n",
    "dist = np.random.normal(loc=mu, scale=sigma, size=1000)\n",
    "\n",
    "fig, ax = plt.subplots()\n",
    "ax.grid()\n",
    "ax.hist(dist, bins=30);\n",
    "ax.plot([np.percentile(dist, 10),np.percentile(dist, 10)], [0, 120])\n",
    "ax.plot([np.percentile(dist, 90),np.percentile(dist, 90)], [0, 120])\n",
    "plt.title(f'predict dist on 2020-05-01, real total_cases={gt}');\n",
    "\n",
    "print(f'10 перцентиль: {round(np.percentile(dist, 10))}, 90 перцентиль: {round(np.percentile(dist, 90))}')"
   ]
  },
  {
   "cell_type": "code",
   "execution_count": 52,
   "metadata": {},
   "outputs": [
    {
     "name": "stdout",
     "output_type": "stream",
     "text": [
      "10 перцентиль: 885111, 90 перцентиль: 885944\n"
     ]
    },
    {
     "data": {
      "image/png": "[encoded data removed]",
      "text/plain": [
       "<Figure size 432x288 with 1 Axes>"
      ]
     },
     "metadata": {
      "needs_background": "light"
     },
     "output_type": "display_data"
    }
   ],
   "source": [
    "# предсказание числа заболеваний на 1 мая\n",
    "gt = df[df.date==pd.to_datetime('2020-06-01')]['total_cases'].to_list()[0]\n",
    "x = get_day_num('2020-06-01', field='day_num')\n",
    "x = np.array([[x]])\n",
    "mu = get_predict(x)\n",
    "dist = np.random.normal(loc=mu, scale=sigma, size=1000)\n",
    "\n",
    "fig, ax = plt.subplots()\n",
    "ax.grid()\n",
    "ax.hist(dist, bins=30);\n",
    "ax.plot([np.percentile(dist, 10),np.percentile(dist, 10)], [0, 120])\n",
    "ax.plot([np.percentile(dist, 90),np.percentile(dist, 90)], [0, 120])\n",
    "plt.title(f'predict dist on 2020-06-01, real total_cases={gt}');\n",
    "\n",
    "print(f'10 перцентиль: {round(np.percentile(dist, 10))}, 90 перцентиль: {round(np.percentile(dist, 90))}')"
   ]
  },
  {
   "cell_type": "code",
   "execution_count": 53,
   "metadata": {},
   "outputs": [
    {
     "name": "stdout",
     "output_type": "stream",
     "text": [
      "10 перцентиль: 1228146, 90 перцентиль: 1228967\n"
     ]
    },
    {
     "data": {
      "image/png": "[encoded data removed]",
      "text/plain": [
       "<Figure size 432x288 with 1 Axes>"
      ]
     },
     "metadata": {
      "needs_background": "light"
     },
     "output_type": "display_data"
    }
   ],
   "source": [
    "# предсказание числа заболеваний на 1 мая\n",
    "gt = df[df.date==pd.to_datetime('2020-09-01')]['total_cases'].to_list()[0]\n",
    "x = get_day_num('2020-09-01', field='day_num')\n",
    "x = np.array([[x]])\n",
    "mu = get_predict(x)\n",
    "dist = np.random.normal(loc=mu, scale=sigma, size=1000)\n",
    "\n",
    "fig, ax = plt.subplots()\n",
    "ax.grid()\n",
    "ax.hist(dist, bins=30);\n",
    "ax.plot([np.percentile(dist, 10),np.percentile(dist, 10)], [0, 120])\n",
    "ax.plot([np.percentile(dist, 90),np.percentile(dist, 90)], [0, 120])\n",
    "plt.title(f'predict dist on 2020-09-01, real total_cases={gt}');\n",
    "\n",
    "print(f'10 перцентиль: {round(np.percentile(dist, 10))}, 90 перцентиль: {round(np.percentile(dist, 90))}')"
   ]
  }
 ],
 "metadata": {
  "kernelspec": {
   "display_name": "Python 3",
   "language": "python",
   "name": "python3"
  },
  "language_info": {
   "codemirror_mode": {
    "name": "ipython",
    "version": 3
   },
   "file_extension": ".py",
   "mimetype": "text/x-python",
   "name": "python",
   "nbconvert_exporter": "python",
   "pygments_lexer": "ipython3",
   "version": "3.8.6"
  }
 },
 "nbformat": 4,
 "nbformat_minor": 4
}
