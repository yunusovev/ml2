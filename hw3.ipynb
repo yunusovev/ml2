{
 "cells": [
  {
   "cell_type": "code",
   "execution_count": 1,
   "id": "commercial-healing",
   "metadata": {},
   "outputs": [],
   "source": [
    "from collections import Counter\n",
    "import numpy as np\n",
    "from copy import deepcopy\n",
    "import re\n",
    "\n",
    "import matplotlib.pyplot as plt\n",
    "%matplotlib inline"
   ]
  },
  {
   "cell_type": "code",
   "execution_count": 2,
   "id": "accessible-large",
   "metadata": {},
   "outputs": [],
   "source": [
    "with open('WarAndPeace.txt', 'r') as f:\n",
    "    text_1 = f.read()\n",
    "\n",
    "with open('AnnaKarenina.txt' ,'r') as file:\n",
    "    text_2 = file.read()\n",
    "    \n",
    "text = text_1 + ' ' + text_2\n",
    "text = text.lower()\n",
    "text = re.sub('[^а-я ]', ' ', text)\n",
    "text = re.sub(' +', ' ', text).strip()"
   ]
  },
  {
   "cell_type": "code",
   "execution_count": 3,
   "id": "active-humor",
   "metadata": {},
   "outputs": [
    {
     "name": "stdout",
     "output_type": "stream",
     "text": [
      "[' ', 'а', 'б', 'в', 'г', 'д', 'е', 'ж', 'з', 'и', 'й', 'к', 'л', 'м', 'н', 'о', 'п', 'р', 'с', 'т', 'у', 'ф', 'х', 'ц', 'ч', 'ш', 'щ', 'ъ', 'ы', 'ь', 'э', 'ю', 'я']\n"
     ]
    }
   ],
   "source": [
    "text_length = len(text)\n",
    "symbols = sorted(set(text))\n",
    "print(symbols)"
   ]
  },
  {
   "cell_type": "code",
   "execution_count": 4,
   "id": "improving-greek",
   "metadata": {},
   "outputs": [],
   "source": [
    "def calc_base_freq(text):\n",
    "    text_length = len(text)\n",
    "    base_freq = Counter()\n",
    "    base_freq.update(text)\n",
    "    base_freq = {key: val/text_length for key, val in base_freq.items()}\n",
    "    return base_freq"
   ]
  },
  {
   "cell_type": "code",
   "execution_count": 5,
   "id": "modular-field",
   "metadata": {},
   "outputs": [],
   "source": [
    "base_freq = calc_base_freq(text)\n",
    "cond_freq = {prev_symbol: {cur_symb: 0 for cur_symb in symbols} for prev_symbol in symbols}\n",
    "for i in range(1, text_length):\n",
    "    prev_symb = text[i-1]\n",
    "    cur_symb = text[i]\n",
    "    cond_freq[prev_symb][cur_symb] += 1\n",
    "\n",
    "for prev_symb in cond_freq.keys():\n",
    "    total_sum = sum([freq for freq in cond_freq[prev_symb].values()])\n",
    "    for key, val in cond_freq[prev_symb].items():\n",
    "        cond_freq[prev_symb][key] = (cond_freq[prev_symb][key] + 1) / total_sum"
   ]
  },
  {
   "cell_type": "code",
   "execution_count": 6,
   "id": "reverse-hayes",
   "metadata": {},
   "outputs": [],
   "source": [
    "base_order = deepcopy(symbols)"
   ]
  },
  {
   "cell_type": "code",
   "execution_count": 7,
   "id": "finnish-curve",
   "metadata": {},
   "outputs": [
    {
     "name": "stdout",
     "output_type": "stream",
     "text": [
      "война и мир самый известный роман льва николаевича толстого как никакое другое произведение писателя отражает глубину его мироощущения и философии эта книга из разряда вечных потому что она обо всем о жизни и смерти о любви и чести о мужестве и героизме о славе и подвиге о войне и мире первый том знакомит\n"
     ]
    }
   ],
   "source": [
    "test_text = text[:306]\n",
    "print(test_text)"
   ]
  },
  {
   "cell_type": "code",
   "execution_count": 8,
   "id": "political-imperial",
   "metadata": {},
   "outputs": [
    {
     "name": "stdout",
     "output_type": "stream",
     "text": [
      "рчгкою юм бюьомягю лртьвкягюбчмокюджроюк пчдотр соювчдьвчзчюпопюк попчтюибъзчтюабч лртитк тюа ьовтдыючвбофотвюздъщ къютзчюм бччеъетк ыю юц дчьчц  юйвоюпк зою люболбыиоюртскяэюачвчмъюсвчючкоючщчюрьтмючюф лк ю юьмтбв ючюднщр ю юстьв ючюмъфтьвртю юзтбч лмтючюьдортю юачир зтючюрчгктю юм бтюатбрягювчмюлкопчм в\n"
     ]
    }
   ],
   "source": [
    "def get_encoder(base_order=base_order, seed=42):\n",
    "    np.random.seed(seed)\n",
    "    new_order = deepcopy(base_order)\n",
    "    np.random.shuffle(new_order)\n",
    "    return {base: new for base, new in zip(base_order, new_order)}\n",
    "\n",
    "encoder = get_encoder(base_order)\n",
    "encode_text = ''.join(encoder[symbol] for symbol in test_text)\n",
    "print(encode_text)"
   ]
  },
  {
   "cell_type": "code",
   "execution_count": 9,
   "id": "psychological-clone",
   "metadata": {},
   "outputs": [],
   "source": [
    "def calc_log_likelihood(decode_text, cond_freq=cond_freq):\n",
    "    log_likelihood = 0\n",
    "    for i in range(1, len(decode_text)):\n",
    "        prev_symb = decode_text[i-1]\n",
    "        cur_symb = decode_text[i]\n",
    "        log_likelihood += np.log(cond_freq[prev_symb][cur_symb])\n",
    "    return log_likelihood\n",
    "\n",
    "\n",
    "def get_decode_text(encode_text, decoder):\n",
    "    return [decoder[symbol] for symbol in encode_text]\n",
    "\n",
    "\n",
    "def get_new_decoder(decoder):\n",
    "    keys = []\n",
    "    vals = []\n",
    "    for key, val in decoder.items():\n",
    "        keys.append(key)\n",
    "        vals.append(val)\n",
    "    index_1, index_2 = np.random.choice(len(decoder), size=2, replace=False)\n",
    "    vals[index_1], vals[index_2] = vals[index_2], vals[index_1]\n",
    "    new_decoder = {key:val for key, val in zip(keys, vals)}\n",
    "    return new_decoder"
   ]
  },
  {
   "cell_type": "markdown",
   "id": "ongoing-jersey",
   "metadata": {},
   "source": [
    "## Задание 1"
   ]
  },
  {
   "cell_type": "markdown",
   "id": "micro-central",
   "metadata": {},
   "source": [
    "1) посчитаем частоты каждого токена в исходном тексте (война и мир + анна каренина)\n",
    "2) посчитаем частоты каждого токена в зашивровоном тексте\n",
    "3) осортируем по убыванию и замапим значения по порядку"
   ]
  },
  {
   "cell_type": "code",
   "execution_count": 10,
   "id": "humanitarian-interference",
   "metadata": {},
   "outputs": [
    {
     "data": {
      "text/plain": [
       "'война и мир самый известный роман льва николаевича толстого как никакое другое произведение писателя отражает глубину его мироощущения и философии эта книга из разряда вечных потому что она обо всем о жизни и смерти о любви и чести о мужестве и героизме о славе и подвиге о войне и мире первый том знакомит'"
      ]
     },
     "execution_count": 10,
     "metadata": {},
     "output_type": "execute_result"
    }
   ],
   "source": [
    "test_text"
   ]
  },
  {
   "cell_type": "code",
   "execution_count": 11,
   "id": "metallic-interest",
   "metadata": {},
   "outputs": [
    {
     "data": {
      "text/plain": [
       "'рчгкою юм бюьомягю лртьвкягюбчмокюджроюк пчдотр соювчдьвчзчюпопюк попчтюибъзчтюабч лртитк тюа ьовтдыючвбофотвюздъщ къютзчюм бччеъетк ыю юц дчьчц  юйвоюпк зою люболбыиоюртскяэюачвчмъюсвчючкоючщчюрьтмючюф лк ю юьмтбв ючюднщр ю юстьв ючюмъфтьвртю юзтбч лмтючюьдортю юачир зтючюрчгктю юм бтюатбрягювчмюлкопчм в'"
      ]
     },
     "execution_count": 11,
     "metadata": {},
     "output_type": "execute_result"
    }
   ],
   "source": [
    "encode_text"
   ]
  },
  {
   "cell_type": "code",
   "execution_count": 12,
   "id": "configured-tattoo",
   "metadata": {},
   "outputs": [
    {
     "name": "stdout",
     "output_type": "stream",
     "text": [
      "сеяин о лов рнлгя одсартигя велни кхсн иомекнасоын текртеуе мнм иомнмеа бвпуеа ьвеодсабаиоа ьорнтакз етвнчнат укпжоип ауе ловеейпйаиоз о шокерешоо ютн миоун од вндвзбн саыигэ ьетелп ыте еин еже срал е чодио о рлавто е кцжсо о ыарто е лпчартса о уавеодла е ркнса о ьебсоуа е сеяиа о лова ьавсгя тел динмелот\n"
     ]
    }
   ],
   "source": [
    "test_base_freq = calc_base_freq(encode_text)\n",
    "keys = [key for key, val in sorted(test_base_freq.items(), key=lambda x: x[1], reverse=True)]\n",
    "vals = [key for key, val in sorted(base_freq.items(), key=lambda x: x[1], reverse=True)]\n",
    "decoder = {}\n",
    "for key, val in zip(keys, vals):\n",
    "    decoder[key] = val\n",
    "    \n",
    "    \n",
    "print(''.join(get_decode_text(encode_text, decoder)))"
   ]
  },
  {
   "cell_type": "markdown",
   "id": "informed-specific",
   "metadata": {},
   "source": [
    "## Задание 2"
   ]
  },
  {
   "cell_type": "code",
   "execution_count": null,
   "id": "living-garage",
   "metadata": {},
   "outputs": [],
   "source": []
  },
  {
   "cell_type": "markdown",
   "id": "european-stockholm",
   "metadata": {},
   "source": [
    "# Задание 3"
   ]
  },
  {
   "cell_type": "markdown",
   "id": "diagnostic-scholar",
   "metadata": {},
   "source": [
    "1) Инициализируем декодер как в задании 1\n",
    "2) считаем статистику по биграммам\n",
    "3) заходим в цикл:\n",
    "    1. считаем логарифм правдоподобия (по биграммам) для текущего декодера\n",
    "    2. Генерируем новый декодер у которого случайно поменяли местами значения у 2 ключей\n",
    "    3. считаем логарифм правдоподобия (по биграммам) для нового декодера\n",
    "    4. с вероятностью p заменяем старый декодера на новый, где p = np.exp(new_log_likelihood - curent_log_likelihood)"
   ]
  },
  {
   "cell_type": "code",
   "execution_count": 13,
   "id": "frequent-station",
   "metadata": {},
   "outputs": [
    {
     "data": {
      "text/plain": [
       "[<matplotlib.lines.Line2D at 0x7f41a409dc10>]"
      ]
     },
     "execution_count": 13,
     "metadata": {},
     "output_type": "execute_result"
    },
    {
     "data": {
      "image/png": "[encoded data removed]",
      "text/plain": [
       "<Figure size 432x288 with 1 Axes>"
      ]
     },
     "metadata": {
      "needs_background": "light"
     },
     "output_type": "display_data"
    }
   ],
   "source": [
    "test_base_freq = calc_base_freq(encode_text)\n",
    "keys = [key for key, val in sorted(test_base_freq.items(), key=lambda x: x[1], reverse=True)]\n",
    "vals = [key for key, val in sorted(base_freq.items(), key=lambda x: x[1], reverse=True)]\n",
    "decoder = {}\n",
    "for key, val in zip(keys, vals):\n",
    "    decoder[key] = val\n",
    "    \n",
    "decode_text = get_decode_text(encode_text, decoder)\n",
    "curent_log_likelihood = calc_log_likelihood(decode_text)\n",
    "\n",
    "num_iter = 5000\n",
    "hist = [curent_log_likelihood]\n",
    "\n",
    "for i in range(num_iter):\n",
    "    decode_text = get_decode_text(encode_text, decoder)\n",
    "    curent_log_likelihood = calc_log_likelihood(decode_text)\n",
    "    \n",
    "    new_decoder = get_new_decoder(decoder)\n",
    "    new_decode_text = get_decode_text(encode_text, new_decoder)\n",
    "    new_log_likelihood = calc_log_likelihood(new_decode_text)\n",
    "    \n",
    "    rand_prob = np.random.rand()\n",
    "    if rand_prob < np.exp(new_log_likelihood - curent_log_likelihood):\n",
    "        decoder = new_decoder\n",
    "        curent_log_likelihood = new_log_likelihood\n",
    "    \n",
    "    hist.append(curent_log_likelihood)\n",
    "plt.plot(hist)"
   ]
  },
  {
   "cell_type": "markdown",
   "id": "competitive-patio",
   "metadata": {},
   "source": [
    "Расшифровка тестового примера:"
   ]
  },
  {
   "cell_type": "code",
   "execution_count": 14,
   "id": "super-enough",
   "metadata": {},
   "outputs": [
    {
     "data": {
      "text/plain": [
       "'война и мир самый известный роман дьва никодаевича тодстоло как никакое хрулое произвехение писатедя отражает лдугину ело мирообубения и шидосошии эта книла из разряха вечныю потому что она ого всем о жизни и смерти о дцгви и чести о мужестве и лероизме о сдаве и похвиле о войне и мире первый том знакомит'"
      ]
     },
     "execution_count": 14,
     "metadata": {},
     "output_type": "execute_result"
    }
   ],
   "source": [
    "''.join(get_decode_text(encode_text, decoder))"
   ]
  },
  {
   "cell_type": "code",
   "execution_count": 15,
   "id": "pharmaceutical-function",
   "metadata": {},
   "outputs": [],
   "source": [
    "encode_text = '←⇠⇒↟↹↷⇊↹↷↟↤↟↨←↹↝⇛⇯↳⇴⇒⇈↝⇊↾↹↟⇒↟↹⇷⇛⇞↨↟↹↝⇛⇯↳⇴⇒⇈↝⇊↾↹↨←⇌⇠↨↹⇙↹⇸↨⇛↙⇛↹⇠⇛⇛↲⇆←↝↟↞↹⇌⇛↨⇛⇯⇊↾↹⇒←↙⇌⇛↹⇷⇯⇛⇞↟↨⇴↨⇈↹⇠⇌⇛⇯←←↹↷⇠←↙⇛↹↷⇊↹↷⇠←↹⇠↤←⇒⇴⇒↟↹⇷⇯⇴↷↟⇒⇈↝⇛↹↟↹⇷⇛⇒⇙⇞↟↨←↹↳⇴⇌⇠↟↳⇴⇒⇈↝⇊↾↹↲⇴⇒⇒↹⇰⇴↹⇷⇛⇠⇒←↤↝←←↹⇞←↨↷←⇯↨⇛←↹⇰⇴↤⇴↝↟←↹⇌⇙⇯⇠⇴↹↘⇛↨↞↹⇌⇛↝←⇞↝⇛↹↞↹↝↟⇞←↙⇛↹↝←↹⇛↲←⇆⇴⇏'"
   ]
  },
  {
   "cell_type": "code",
   "execution_count": 32,
   "id": "soviet-offense",
   "metadata": {},
   "outputs": [
    {
     "data": {
      "text/plain": [
       "[<matplotlib.lines.Line2D at 0x7f413a7c6c10>]"
      ]
     },
     "execution_count": 32,
     "metadata": {},
     "output_type": "execute_result"
    },
    {
     "data": {
      "image/png": "[encoded data removed]",
      "text/plain": [
       "<Figure size 432x288 with 1 Axes>"
      ]
     },
     "metadata": {
      "needs_background": "light"
     },
     "output_type": "display_data"
    }
   ],
   "source": [
    "test_base_freq = calc_base_freq(encode_text)\n",
    "keys = [key for key, val in sorted(test_base_freq.items(), key=lambda x: x[1], reverse=True)]\n",
    "vals = [key for key, val in sorted(base_freq.items(), key=lambda x: x[1], reverse=True)]\n",
    "decoder = {}\n",
    "for key, val in zip(keys, vals):\n",
    "    decoder[key] = val\n",
    "    \n",
    "decode_text = get_decode_text(encode_text, decoder)\n",
    "curent_log_likelihood = calc_log_likelihood(decode_text)\n",
    "\n",
    "num_iter = 20000\n",
    "hist = [curent_log_likelihood]\n",
    "\n",
    "for i in range(num_iter):\n",
    "    decode_text = get_decode_text(encode_text, decoder)\n",
    "    curent_log_likelihood = calc_log_likelihood(decode_text)\n",
    "    \n",
    "    new_decoder = get_new_decoder(decoder)\n",
    "    new_decode_text = get_decode_text(encode_text, new_decoder)\n",
    "    new_log_likelihood = calc_log_likelihood(new_decode_text)\n",
    "    \n",
    "    rand_prob = np.random.uniform(0, 1)\n",
    "    if rand_prob < np.exp(new_log_likelihood - curent_log_likelihood):\n",
    "        decoder = new_decoder\n",
    "        curent_log_likelihood = new_log_likelihood\n",
    "        \n",
    "    \n",
    "    hist.append(curent_log_likelihood)\n",
    "plt.plot(hist)"
   ]
  },
  {
   "cell_type": "markdown",
   "id": "amino-dimension",
   "metadata": {},
   "source": [
    "Расшифровка закодированного сообщения:"
   ]
  },
  {
   "cell_type": "code",
   "execution_count": 34,
   "id": "genuine-elements",
   "metadata": {},
   "outputs": [
    {
     "data": {
      "text/plain": [
       "'если вы вимите нордальный или почти нордальный текст у зтого сообшения который легко прочитать скорее всего вы все смелали правильно и получите даксидальный балл жа послемнее четвертое жамание курса хотя конечно я ничего не обешаю'"
      ]
     },
     "execution_count": 34,
     "metadata": {},
     "output_type": "execute_result"
    }
   ],
   "source": [
    "''.join(get_decode_text(encode_text, decoder))"
   ]
  }
 ],
 "metadata": {
  "kernelspec": {
   "display_name": "Python 3",
   "language": "python",
   "name": "python3"
  },
  "language_info": {
   "codemirror_mode": {
    "name": "ipython",
    "version": 3
   },
   "file_extension": ".py",
   "mimetype": "text/x-python",
   "name": "python",
   "nbconvert_exporter": "python",
   "pygments_lexer": "ipython3",
   "version": "3.8.7"
  }
 },
 "nbformat": 4,
 "nbformat_minor": 5
}
